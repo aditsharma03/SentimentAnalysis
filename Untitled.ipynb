{
 "cells": [
  {
   "cell_type": "markdown",
   "id": "28fb67ed-e76f-4c0a-b94a-8e795b3126db",
   "metadata": {},
   "source": [
    "# Sentiment Analysis"
   ]
  },
  {
   "cell_type": "markdown",
   "id": "b8413541-2be4-4b0b-ad96-0342579b3ff3",
   "metadata": {},
   "source": [
    "Python Machine Learning project to perform sentiment analysis on text-based data."
   ]
  },
  {
   "cell_type": "code",
   "execution_count": 1,
   "id": "eadc669b-5eea-480b-bb3a-0588e65e72ee",
   "metadata": {},
   "outputs": [],
   "source": [
    "from sklearn.feature_extraction.text import TfidfVectorizer"
   ]
  },
  {
   "cell_type": "code",
   "execution_count": null,
   "id": "d746f211-cb29-42e6-a014-dd99e4db7efa",
   "metadata": {},
   "outputs": [],
   "source": []
  }
 ],
 "metadata": {
  "kernelspec": {
   "display_name": "Python 3 (ipykernel)",
   "language": "python",
   "name": "python3"
  },
  "language_info": {
   "codemirror_mode": {
    "name": "ipython",
    "version": 3
   },
   "file_extension": ".py",
   "mimetype": "text/x-python",
   "name": "python",
   "nbconvert_exporter": "python",
   "pygments_lexer": "ipython3",
   "version": "3.11.4"
  }
 },
 "nbformat": 4,
 "nbformat_minor": 5
}
